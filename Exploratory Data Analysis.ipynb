{
 "cells": [
  {
   "cell_type": "code",
   "execution_count": 14,
   "id": "outer-personality",
   "metadata": {},
   "outputs": [],
   "source": [
    "import numpy as np\n",
    "import pandas as pd\n",
    "import matplotlib.pyplot as plt\n",
    "import seaborn as sns\n",
    "\n",
    "from data_prep import get_data\n",
    "from data_prep import get_data_reduced\n",
    "from sklearn.metrics import classification_report\n",
    "from sklearn.metrics import confusion_matrix\n",
    "from joblib import load"
   ]
  },
  {
   "cell_type": "code",
   "execution_count": 16,
   "id": "emotional-transfer",
   "metadata": {},
   "outputs": [],
   "source": [
    "X_train, X_test, y_train, y_test = get_data()"
   ]
  },
  {
   "cell_type": "code",
   "execution_count": 17,
   "id": "uniform-royal",
   "metadata": {},
   "outputs": [],
   "source": [
    "LogisticRegression=load('LogReg.joblib')"
   ]
  },
  {
   "cell_type": "code",
   "execution_count": 18,
   "id": "celtic-seventh",
   "metadata": {},
   "outputs": [
    {
     "name": "stdout",
     "output_type": "stream",
     "text": [
      "              precision    recall  f1-score   support\n",
      "\n",
      "           0       0.82      0.97      0.89      7710\n",
      "           1       0.73      0.25      0.37      2190\n",
      "\n",
      "    accuracy                           0.81      9900\n",
      "   macro avg       0.77      0.61      0.63      9900\n",
      "weighted avg       0.80      0.81      0.78      9900\n",
      "\n",
      "[[7507  203]\n",
      " [1648  542]]\n"
     ]
    }
   ],
   "source": [
    "print(classification_report(y_test,LogisticRegression.predict(X_test)))\n",
    "print(confusion_matrix(y_test,LogisticRegression.predict(X_test)))"
   ]
  },
  {
   "cell_type": "code",
   "execution_count": 19,
   "id": "impossible-perth",
   "metadata": {},
   "outputs": [],
   "source": [
    "LogisticRegression_with_dimensionreduction = load('pca_logisticregression.joblib')"
   ]
  },
  {
   "cell_type": "code",
   "execution_count": 20,
   "id": "social-cricket",
   "metadata": {},
   "outputs": [],
   "source": [
    "X_train, X_test, y_train, y_test = get_data_reduced()"
   ]
  },
  {
   "cell_type": "code",
   "execution_count": 21,
   "id": "buried-intervention",
   "metadata": {},
   "outputs": [
    {
     "name": "stdout",
     "output_type": "stream",
     "text": [
      "              precision    recall  f1-score   support\n",
      "\n",
      "           0       0.85      0.45      0.58      7710\n",
      "           1       0.27      0.72      0.39      2190\n",
      "\n",
      "    accuracy                           0.51      9900\n",
      "   macro avg       0.56      0.58      0.49      9900\n",
      "weighted avg       0.72      0.51      0.54      9900\n",
      "\n",
      "[[3437 4273]\n",
      " [ 610 1580]]\n"
     ]
    }
   ],
   "source": [
    "print(classification_report(y_test,LogisticRegression_with_dimensionreduction.predict(X_test)))\n",
    "print(confusion_matrix(y_test,LogisticRegression_with_dimensionreduction.predict(X_test)))"
   ]
  },
  {
   "cell_type": "code",
   "execution_count": null,
   "id": "suffering-strength",
   "metadata": {},
   "outputs": [],
   "source": []
  }
 ],
 "metadata": {
  "kernelspec": {
   "display_name": "Python 3",
   "language": "python",
   "name": "python3"
  },
  "language_info": {
   "codemirror_mode": {
    "name": "ipython",
    "version": 3
   },
   "file_extension": ".py",
   "mimetype": "text/x-python",
   "name": "python",
   "nbconvert_exporter": "python",
   "pygments_lexer": "ipython3",
   "version": "3.8.10"
  }
 },
 "nbformat": 4,
 "nbformat_minor": 5
}
